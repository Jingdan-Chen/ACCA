{
 "cells": [
  {
   "cell_type": "code",
   "execution_count": 2,
   "metadata": {},
   "outputs": [],
   "source": [
    "from coordProcess import *"
   ]
  },
  {
   "cell_type": "code",
   "execution_count": 4,
   "metadata": {},
   "outputs": [
    {
     "data": {
      "text/plain": [
       "{(9, 1, 2, 3): -176.90963022679207,\n",
       " (2, 1, 9, 10): 179.77670041365633,\n",
       " (9, 1, 16, 17): 14.951700021152043,\n",
       " (9, 1, 23, 25): 81.00665516907756,\n",
       " (9, 1, 32, 33): 61.630956331094886,\n",
       " (1, 2, 3, 30): -9.694710652557822,\n",
       " (1, 2, 4, 11): -2.593852345973177,\n",
       " (1, 9, 11, 4): 4.5359411624784105,\n",
       " (1, 16, 17, 31): -11.488590647895956,\n",
       " (1, 16, 18, 25): -2.6418034662007277,\n",
       " (1, 23, 25, 18): 6.277327160613616,\n",
       " (1, 32, 35, 36): 94.10152933244841,\n",
       " (2, 4, 5, 6): -130.1282344930154,\n",
       " (2, 4, 11, 9): -1.2920123433046766,\n",
       " (9, 11, 12, 13): 116.52545159261634,\n",
       " (25, 18, 19, 20): 51.640785628824034,\n",
       " (19, 18, 25, 26): -2.7417080582313806,\n",
       " (18, 25, 26, 27): 175.9880699999847,\n",
       " (38, 35, 36, 42): 3.4008763701990037,\n",
       " (36, 35, 38, 41): 152.39447953473635,\n",
       " (35, 36, 42, 43): 29.32596171894339,\n",
       " (36, 42, 43, 45): 179.18898722230588,\n",
       " (43, 42, 44, 47): -2.190533782740966,\n",
       " (42, 43, 45, 49): 0.2729351222282247,\n",
       " (42, 44, 47, 49): 1.2128897126341114,\n",
       " (50, 45, 49, 52): -0.7201012782349012,\n",
       " (51, 47, 49, 52): 0.14460077965784043}"
      ]
     },
     "execution_count": 4,
     "metadata": {},
     "output_type": "execute_result"
    }
   ],
   "source": [
    "obj.IClis"
   ]
  },
  {
   "cell_type": "code",
   "execution_count": null,
   "metadata": {},
   "outputs": [],
   "source": [
    "exclude = \n",
    "res = list(set(nx.neighbors(obj.G, 1))-set(exclude))"
   ]
  },
  {
   "cell_type": "code",
   "execution_count": 2,
   "metadata": {},
   "outputs": [
    {
     "data": {
      "text/plain": [
       "52"
      ]
     },
     "execution_count": 2,
     "metadata": {},
     "output_type": "execute_result"
    }
   ],
   "source": [
    "len(obj.G.nodes)"
   ]
  },
  {
   "cell_type": "code",
   "execution_count": 28,
   "metadata": {},
   "outputs": [
    {
     "data": {
      "text/plain": [
       "1"
      ]
     },
     "execution_count": 28,
     "metadata": {},
     "output_type": "execute_result"
    }
   ],
   "source": [
    "# 计算每个节点的度数\n",
    "degree_dict = dict(nx.degree(obj.G))\n"
   ]
  },
  {
   "cell_type": "code",
   "execution_count": 29,
   "metadata": {},
   "outputs": [
    {
     "data": {
      "text/plain": [
       "array([1.87470487, 0.        , 1.36358387, 1.29503155, 2.46065385,\n",
       "       3.2135444 , 2.58455179, 3.10622746, 2.48897296, 3.77427778,\n",
       "       2.2937339 , 3.69567071, 4.08615119, 4.05350051, 4.4012492 ,\n",
       "       3.74746138, 4.69732442, 4.43747689, 5.91978269, 6.39081767,\n",
       "       6.28946904, 6.43447744, 2.80659006, 2.94749125, 4.01538365,\n",
       "       5.24316371, 5.15887749, 5.795917  , 5.98915819, 1.9018179 ,\n",
       "       4.35507409, 2.86009786, 2.62228749, 3.65683272, 3.66540587,\n",
       "       4.82729011, 5.13180809, 3.76884488, 4.85016527, 3.57797778,\n",
       "       3.45307237, 6.01726942, 6.26371248, 7.2457699 , 7.60947208,\n",
       "       5.57747378, 8.43508501, 7.38551696, 8.60086974, 8.00749465,\n",
       "       9.36609211, 9.62886965])"
      ]
     },
     "execution_count": 29,
     "metadata": {},
     "output_type": "execute_result"
    }
   ],
   "source": [
    "obj.dist_mat[1]"
   ]
  },
  {
   "cell_type": "code",
   "execution_count": 33,
   "metadata": {},
   "outputs": [
    {
     "data": {
      "text/plain": [
       "(0, 8)"
      ]
     },
     "execution_count": 33,
     "metadata": {},
     "output_type": "execute_result"
    }
   ],
   "source": [
    "tuple(obj.G.edges)[1]"
   ]
  },
  {
   "cell_type": "code",
   "execution_count": 43,
   "metadata": {},
   "outputs": [
    {
     "data": {
      "text/plain": [
       "{1, 8, 15, 22, 31}"
      ]
     },
     "execution_count": 43,
     "metadata": {},
     "output_type": "execute_result"
    }
   ],
   "source": [
    "res = set(nx.neighbors(obj.G, 0))\n",
    "res"
   ]
  },
  {
   "cell_type": "code",
   "execution_count": 47,
   "metadata": {},
   "outputs": [
    {
     "ename": "SyntaxError",
     "evalue": "invalid syntax (3326971485.py, line 1)",
     "output_type": "error",
     "traceback": [
      "\u001b[1;36m  File \u001b[1;32m\"C:\\Users\\Chlorine\\AppData\\Local\\Temp\\ipykernel_9520\\3326971485.py\"\u001b[1;36m, line \u001b[1;32m1\u001b[0m\n\u001b[1;33m    del set 1\u001b[0m\n\u001b[1;37m            ^\u001b[0m\n\u001b[1;31mSyntaxError\u001b[0m\u001b[1;31m:\u001b[0m invalid syntax\n"
     ]
    }
   ],
   "source": [
    "del set 1"
   ]
  }
 ],
 "metadata": {
  "kernelspec": {
   "display_name": "normal",
   "language": "python",
   "name": "python3"
  },
  "language_info": {
   "codemirror_mode": {
    "name": "ipython",
    "version": 3
   },
   "file_extension": ".py",
   "mimetype": "text/x-python",
   "name": "python",
   "nbconvert_exporter": "python",
   "pygments_lexer": "ipython3",
   "version": "3.7.12"
  },
  "orig_nbformat": 4
 },
 "nbformat": 4,
 "nbformat_minor": 2
}
