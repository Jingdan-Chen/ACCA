{
 "cells": [
  {
   "cell_type": "code",
   "execution_count": 6,
   "metadata": {},
   "outputs": [],
   "source": [
    "# 从这边把类和函数导过来\n",
    "from coordProcess import *"
   ]
  },
  {
   "cell_type": "code",
   "execution_count": 8,
   "metadata": {},
   "outputs": [],
   "source": [
    "# read in all geom and energies\n",
    "    # 获取指定目录下的所有文件\n",
    "molfiles = os.listdir(args['mol_path'])\n",
    "all_geom=dict()\n",
    "for file in molfiles:\n",
    "    [basename,suffix] = file.split(\".\")\n",
    "    if suffix == args['mol_suffix']:\n",
    "        all_geom[basename] = geom(file=file) # 录入所有分子的结构和能量\n"
   ]
  },
  {
   "cell_type": "code",
   "execution_count": 9,
   "metadata": {},
   "outputs": [],
   "source": [
    "# 获取此批结构的重要id信息，对每个结构生成id，并进行整合\n",
    "all_IClis = set()\n",
    "geom_lis = list(all_geom.values())\n",
    "for  i in range(len(geom_lis)):\n",
    "    all_IClis = all_IClis |\\\n",
    "    {list(geom_lis[i].rotable_dict.values())[j][0] for j in range(len(geom_lis[i].rotable_dict))}\n",
    "\n",
    "all_IClis = redun_add(all_IClis,args[\"redundantIC\"])\n",
    "\n",
    "for item in all_geom.values():\n",
    "    item.generate_IClis(all_IClis)"
   ]
  },
  {
   "cell_type": "code",
   "execution_count": 10,
   "metadata": {},
   "outputs": [],
   "source": [
    "def id_to_csv(all_geom):\n",
    "    temp = list(all_geom.values())[0]\n",
    "    col_idx = [\"spe(a.u.)\"]+list(map(str,temp.IClis.keys()))\n",
    "    row_idx = list(all_geom.keys())\n",
    "    res_book = pd.DataFrame([get_geom_id(list(all_geom.values())[i],all_IClis) for i in range(len(all_geom))],\n",
    "                columns=col_idx,index=row_idx)\n",
    "    res_book.to_csv(\"./mol_id.csv\")\n",
    "    \n",
    "# 在当前目录下生成 mol_id.csv 文件，作为汇总结果\n",
    "id_to_csv(all_geom)"
   ]
  }
 ],
 "metadata": {
  "kernelspec": {
   "display_name": "normal",
   "language": "python",
   "name": "python3"
  },
  "language_info": {
   "codemirror_mode": {
    "name": "ipython",
    "version": 3
   },
   "file_extension": ".py",
   "mimetype": "text/x-python",
   "name": "python",
   "nbconvert_exporter": "python",
   "pygments_lexer": "ipython3",
   "version": "3.7.12"
  },
  "orig_nbformat": 4
 },
 "nbformat": 4,
 "nbformat_minor": 2
}
